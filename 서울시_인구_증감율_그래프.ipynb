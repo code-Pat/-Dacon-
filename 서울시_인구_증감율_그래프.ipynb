{
 "cells": [
  {
   "cell_type": "code",
   "execution_count": null,
   "id": "b5f2333a",
   "metadata": {},
   "outputs": [],
   "source": [
    "import pandas as pd\n",
    "import numpy as np\n",
    "import matplotlib\n",
    "from matplotlib import rc, font_manager\n",
    "import matplotlib.pyplot as plt"
   ]
  },
  {
   "cell_type": "code",
   "execution_count": null,
   "id": "91d7c1b5",
   "metadata": {},
   "outputs": [],
   "source": [
    "df = pd.read_csv('./CSV/population/서울시_YbyY증감율.csv')\n",
    "group_names = ['강남구', '강동구', '강북구','강서구',\n",
    "                                 '관악구','광진구','구로구','금천구','노원구',\n",
    "                                 '도봉구','동대문구','동작구','마포구','서대문구',\n",
    "                                 '서초구','성동구','성북구','송파구','양천구',\n",
    "                                 '영등포구','용산구','은평구','종로구','중구','중랑구'\n",
    "                                ]\n",
    "group_data = df.iloc[1, 1:]"
   ]
  },
  {
   "cell_type": "code",
   "execution_count": null,
   "id": "8c2ff5bb",
   "metadata": {},
   "outputs": [],
   "source": [
    "rc('font', family = \"Malgun Gothic\")\n",
    "matplotlib.rcParams['axes.unicode_minus'] = False"
   ]
  },
  {
   "cell_type": "code",
   "execution_count": null,
   "id": "55623b15",
   "metadata": {},
   "outputs": [],
   "source": [
    "plt.style.use('fivethirtyeight')"
   ]
  },
  {
   "cell_type": "code",
   "execution_count": null,
   "id": "dbe87675",
   "metadata": {},
   "outputs": [],
   "source": [
    "plt.rcParams.update({'figure.autolayout': True})\n",
    "\n",
    "fig, ax = plt.subplots(figsize = (10, 10))\n",
    "ax.barh(group_names, group_data)\n",
    "labels = ax.get_xticklabels()\n",
    "plt.setp(labels, rotation = 0, horizontalalignment = 'right')\n",
    "ax.set(xlim = [-4, 3], xlabel = '증감율', ylabel = '구 이름', title = '서울시 인구 증감율 (2015~2016)')"
   ]
  },
  {
   "cell_type": "code",
   "execution_count": null,
   "id": "0ed33a55",
   "metadata": {},
   "outputs": [],
   "source": [
    "fig.savefig('./CSV/population/서울시인구증감율그래프(2015~2016).png', dpi = 200)"
   ]
  }
 ],
 "metadata": {
  "kernelspec": {
   "display_name": "Python 3",
   "language": "python",
   "name": "python3"
  },
  "language_info": {
   "codemirror_mode": {
    "name": "ipython",
    "version": 3
   },
   "file_extension": ".py",
   "mimetype": "text/x-python",
   "name": "python",
   "nbconvert_exporter": "python",
   "pygments_lexer": "ipython3",
   "version": "3.7.0"
  }
 },
 "nbformat": 4,
 "nbformat_minor": 5
}
