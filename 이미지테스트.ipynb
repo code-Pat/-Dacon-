{
 "cells": [
  {
   "cell_type": "markdown",
   "id": "8bacc4d7",
   "metadata": {},
   "source": [
    "![서울](https://user-images.githubusercontent.com/34597321/130601757-8705d8ab-aac8-44b9-88e5-64335f4707b4.png)\n"
   ]
  },
  {
   "cell_type": "code",
   "execution_count": null,
   "id": "0ef9f8fb",
   "metadata": {},
   "outputs": [],
   "source": []
  }
 ],
 "metadata": {
  "kernelspec": {
   "display_name": "Python 3",
   "language": "python",
   "name": "python3"
  },
  "language_info": {
   "codemirror_mode": {
    "name": "ipython",
    "version": 3
   },
   "file_extension": ".py",
   "mimetype": "text/x-python",
   "name": "python",
   "nbconvert_exporter": "python",
   "pygments_lexer": "ipython3",
   "version": "3.7.0"
  }
 },
 "nbformat": 4,
 "nbformat_minor": 5
}
