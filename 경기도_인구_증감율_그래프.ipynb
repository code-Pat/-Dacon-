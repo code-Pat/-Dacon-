{
 "cells": [
  {
   "cell_type": "code",
   "execution_count": null,
   "id": "60b4bd2f",
   "metadata": {},
   "outputs": [],
   "source": [
    "import pandas as pd\n",
    "import numpy as np\n",
    "import matplotlib\n",
    "from matplotlib import rc, font_manager\n",
    "import matplotlib.pyplot as plt"
   ]
  },
  {
   "cell_type": "code",
   "execution_count": null,
   "id": "38f63859",
   "metadata": {},
   "outputs": [],
   "source": [
    "df = pd.read_csv('./CSV/population/경기도_YbyY증감율.csv')\n",
    "group_names = ['합계','수원시','용인시','성남시','부천시',\n",
    "                                '화성시','안산시','안양시','평택시','시흥시',\n",
    "                                '김포시','광주시','광명시','군포시','하남시',\n",
    "                                '오산시','이천시','안성시','의왕시','양평군',\n",
    "                                '여주시','과천시','고양시','남양주시','파주시',\n",
    "                                '의정부시','양주시','구리시','포천시','동두천시',\n",
    "                                '가평군','연천군']\n",
    "group_data = df.iloc[7, 1:]"
   ]
  },
  {
   "cell_type": "code",
   "execution_count": null,
   "id": "2b30c127",
   "metadata": {},
   "outputs": [],
   "source": [
    "rc('font', family = \"Malgun Gothic\")\n",
    "matplotlib.rcParams['axes.unicode_minus'] = False"
   ]
  },
  {
   "cell_type": "code",
   "execution_count": null,
   "id": "0c0dd87e",
   "metadata": {},
   "outputs": [],
   "source": [
    "plt.style.use('fivethirtyeight')"
   ]
  },
  {
   "cell_type": "code",
   "execution_count": null,
   "id": "c0dbd860",
   "metadata": {},
   "outputs": [],
   "source": [
    "plt.rcParams.update({'figure.autolayout': True})\n",
    "\n",
    "fig, ax = plt.subplots(figsize = (10, 10))\n",
    "ax.barh(group_names, group_data)\n",
    "labels = ax.get_xticklabels()\n",
    "plt.setp(labels, rotation = 0, horizontalalignment = 'right')\n",
    "ax.set(xlim = [-15, 40], xlabel = '증감율(%)', ylabel = '시 이름', title = '경기도 인구 증감율 (2016~2021)')"
   ]
  },
  {
   "cell_type": "code",
   "execution_count": null,
   "id": "dac0d16f",
   "metadata": {},
   "outputs": [],
   "source": [
    "fig.savefig('./CSV/population/경기도인구증감율그래프(2016~2021).png', dpi = 200)"
   ]
  }
 ],
 "metadata": {
  "kernelspec": {
   "display_name": "Python 3",
   "language": "python",
   "name": "python3"
  },
  "language_info": {
   "codemirror_mode": {
    "name": "ipython",
    "version": 3
   },
   "file_extension": ".py",
   "mimetype": "text/x-python",
   "name": "python",
   "nbconvert_exporter": "python",
   "pygments_lexer": "ipython3",
   "version": "3.7.0"
  }
 },
 "nbformat": 4,
 "nbformat_minor": 5
}
