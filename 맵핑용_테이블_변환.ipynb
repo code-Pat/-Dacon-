{
 "cells": [
  {
   "cell_type": "code",
   "execution_count": 1,
   "id": "f46869be",
   "metadata": {},
   "outputs": [],
   "source": [
    "import pandas as pd\n",
    "import numpy as np"
   ]
  },
  {
   "cell_type": "code",
   "execution_count": 16,
   "id": "597cbf25",
   "metadata": {},
   "outputs": [],
   "source": [
    "seoul_data = pd.read_csv('./CSV/population/서울시_YbyY증감율.csv', header = 0)\n",
    "seoul_data = seoul_data.T\n",
    "column = ['Y2015-Y2014','Y2016-Y2015','Y2017-Y2016','Y2018-Y2017',\n",
    "          'Y2019-Y2018','Y2020-Y2019','Y2021-Y2020','Y2021-Y2016', 'district_name']\n",
    "seoul_data = seoul_data.drop(['기간'])\n",
    "seoul_data.columns = column"
   ]
  },
  {
   "cell_type": "code",
   "execution_count": null,
   "id": "0cae3c37",
   "metadata": {},
   "outputs": [],
   "source": [
    "seoul_data.to_csv('./CSV/population/gyeonggi_data_total.csv')"
   ]
  }
 ],
 "metadata": {
  "kernelspec": {
   "display_name": "Python 3",
   "language": "python",
   "name": "python3"
  },
  "language_info": {
   "codemirror_mode": {
    "name": "ipython",
    "version": 3
   },
   "file_extension": ".py",
   "mimetype": "text/x-python",
   "name": "python",
   "nbconvert_exporter": "python",
   "pygments_lexer": "ipython3",
   "version": "3.7.0"
  }
 },
 "nbformat": 4,
 "nbformat_minor": 5
}
